{
 "cells": [
  {
   "attachments": {},
   "cell_type": "markdown",
   "metadata": {},
   "source": [
    "# DataFrameで結合などの処理を確認する"
   ]
  },
  {
   "attachments": {},
   "cell_type": "markdown",
   "metadata": {},
   "source": [
    "## 1. ライブラリのimport"
   ]
  },
  {
   "cell_type": "code",
   "execution_count": 1,
   "metadata": {},
   "outputs": [],
   "source": [
    "import os\n",
    "\n",
    "import numpy as np\n",
    "import pandas as pd"
   ]
  },
  {
   "attachments": {},
   "cell_type": "markdown",
   "metadata": {},
   "source": [
    "## 2. データ読み込み"
   ]
  },
  {
   "cell_type": "code",
   "execution_count": 2,
   "metadata": {},
   "outputs": [],
   "source": [
    "dir_path = \"./data/sample_join\"\n",
    "file_name = \"sample.csv\"\n",
    "\n",
    "file_path = os.path.join(dir_path, file_name)"
   ]
  },
  {
   "cell_type": "code",
   "execution_count": 3,
   "metadata": {},
   "outputs": [],
   "source": [
    "header_names = [\"category_id\", \"created_at\", \"data\"]"
   ]
  },
  {
   "cell_type": "code",
   "execution_count": 4,
   "metadata": {},
   "outputs": [
    {
     "data": {
      "text/html": [
       "<div>\n",
       "<style scoped>\n",
       "    .dataframe tbody tr th:only-of-type {\n",
       "        vertical-align: middle;\n",
       "    }\n",
       "\n",
       "    .dataframe tbody tr th {\n",
       "        vertical-align: top;\n",
       "    }\n",
       "\n",
       "    .dataframe thead th {\n",
       "        text-align: right;\n",
       "    }\n",
       "</style>\n",
       "<table border=\"1\" class=\"dataframe\">\n",
       "  <thead>\n",
       "    <tr style=\"text-align: right;\">\n",
       "      <th></th>\n",
       "      <th>category_id</th>\n",
       "      <th>created_at</th>\n",
       "      <th>data</th>\n",
       "    </tr>\n",
       "  </thead>\n",
       "  <tbody>\n",
       "    <tr>\n",
       "      <th>0</th>\n",
       "      <td>1</td>\n",
       "      <td>2022-12-27T12:00:00+09:00</td>\n",
       "      <td>10.00</td>\n",
       "    </tr>\n",
       "    <tr>\n",
       "      <th>1</th>\n",
       "      <td>1</td>\n",
       "      <td>2022-12-27T12:00:01+09:00</td>\n",
       "      <td>10.01</td>\n",
       "    </tr>\n",
       "    <tr>\n",
       "      <th>2</th>\n",
       "      <td>2</td>\n",
       "      <td>2022-12-27T12:00:01+09:00</td>\n",
       "      <td>20.01</td>\n",
       "    </tr>\n",
       "    <tr>\n",
       "      <th>3</th>\n",
       "      <td>1</td>\n",
       "      <td>2022-12-27T12:00:03+09:00</td>\n",
       "      <td>10.03</td>\n",
       "    </tr>\n",
       "    <tr>\n",
       "      <th>4</th>\n",
       "      <td>1</td>\n",
       "      <td>2022-12-27T12:00:04+09:00</td>\n",
       "      <td>10.04</td>\n",
       "    </tr>\n",
       "    <tr>\n",
       "      <th>5</th>\n",
       "      <td>2</td>\n",
       "      <td>2022-12-27T12:00:00+09:00</td>\n",
       "      <td>20.00</td>\n",
       "    </tr>\n",
       "    <tr>\n",
       "      <th>6</th>\n",
       "      <td>2</td>\n",
       "      <td>2022-12-27T12:00:03+09:00</td>\n",
       "      <td>20.03</td>\n",
       "    </tr>\n",
       "    <tr>\n",
       "      <th>7</th>\n",
       "      <td>1</td>\n",
       "      <td>2022-12-27T12:00:02+09:00</td>\n",
       "      <td>10.02</td>\n",
       "    </tr>\n",
       "    <tr>\n",
       "      <th>8</th>\n",
       "      <td>2</td>\n",
       "      <td>2022-12-27T12:00:02+09:00</td>\n",
       "      <td>20.02</td>\n",
       "    </tr>\n",
       "    <tr>\n",
       "      <th>9</th>\n",
       "      <td>2</td>\n",
       "      <td>2022-12-27T12:00:04+09:00</td>\n",
       "      <td>20.04</td>\n",
       "    </tr>\n",
       "  </tbody>\n",
       "</table>\n",
       "</div>"
      ],
      "text/plain": [
       "   category_id                 created_at   data\n",
       "0            1  2022-12-27T12:00:00+09:00  10.00\n",
       "1            1  2022-12-27T12:00:01+09:00  10.01\n",
       "2            2  2022-12-27T12:00:01+09:00  20.01\n",
       "3            1  2022-12-27T12:00:03+09:00  10.03\n",
       "4            1  2022-12-27T12:00:04+09:00  10.04\n",
       "5            2  2022-12-27T12:00:00+09:00  20.00\n",
       "6            2  2022-12-27T12:00:03+09:00  20.03\n",
       "7            1  2022-12-27T12:00:02+09:00  10.02\n",
       "8            2  2022-12-27T12:00:02+09:00  20.02\n",
       "9            2  2022-12-27T12:00:04+09:00  20.04"
      ]
     },
     "execution_count": 4,
     "metadata": {},
     "output_type": "execute_result"
    }
   ],
   "source": [
    "# 元のCSVファイルにはヘッダーがついていないので、プログラム側でヘッダー名を指定する\n",
    "df = pd.read_csv(file_path, header=None, names=header_names)\n",
    "\n",
    "df"
   ]
  },
  {
   "attachments": {},
   "cell_type": "markdown",
   "metadata": {},
   "source": [
    "## 3. 処理"
   ]
  },
  {
   "attachments": {},
   "cell_type": "markdown",
   "metadata": {},
   "source": [
    "読み込んだCSVデータに対して、次のようなCSVを出力することを考える。\n",
    "\n",
    "| category_id | created_at | data | rank |\n",
    "| --- | --- | --- | --- |\n",
    "| 1\t| 2022-12-27T12:00:00+09:00 | 10.00 | 0 |\n",
    "| 1\t| 2022-12-27T12:00:01+09:00 | 10.01 | 1 |\n",
    "| 2\t| 2022-12-27T12:00:01+09:00 | 20.01 | 1 |\n",
    "| 1\t| 2022-12-27T12:00:03+09:00 | 10.03 | 3 |\n",
    "| 1\t| 2022-12-27T12:00:04+09:00 | 10.04 | 4 |\n",
    "| 2\t| 2022-12-27T12:00:00+09:00 | 20.00 | 0 |\n",
    "| 2\t| 2022-12-27T12:00:03+09:00 | 20.03 | 3 |\n",
    "| 1\t| 2022-12-27T12:00:02+09:00 | 10.02 | 2 |\n",
    "| 2\t| 2022-12-27T12:00:02+09:00 | 20.02 | 2 |\n",
    "| 2\t| 2022-12-27T12:00:04+09:00 | 20.04 | 4 |\n",
    "\n",
    "\n",
    "出力するCSVデータの取得/処理要件は次の通りである。\n",
    "\n",
    "- 元のCSVデータと同じ行数、同じ順序である\n",
    "- `rank`列を追加する\n",
    "    - `rank`は同一の`category_id`グループにおいて、`created_at`を昇順ソートした順番である (0始まり)"
   ]
  },
  {
   "attachments": {},
   "cell_type": "markdown",
   "metadata": {},
   "source": [
    "### 参考\n",
    "\n",
    "`rank`列を見やすく整形した表は以下の通りである。\n",
    "\n",
    "| category_id | created_at | data | rank |\n",
    "| --- | --- | --- | --- |\n",
    "| 1 | 2022-12-27T12:00:00+09:00 | 10.00 | 0 |\n",
    "| 1 | 2022-12-27T12:00:01+09:00 | 10.01 | 1 |\n",
    "| 1 | 2022-12-27T12:00:02+09:00 | 10.02 | 2 |\n",
    "| 1\t| 2022-12-27T12:00:03+09:00 | 10.03 | 3 |\n",
    "| 1\t| 2022-12-27T12:00:04+09:00 | 10.04 | 4 |\n",
    "| 2 | 2022-12-27T12:00:00+09:00 | 20.00 | 0 |\n",
    "| 2 | 2022-12-27T12:00:01+09:00 | 20.01 | 1 |\n",
    "| 2 | 2022-12-27T12:00:02+09:00 | 20.02 | 2 |\n",
    "| 2 | 2022-12-27T12:00:03+09:00 | 20.03 | 3 |\n",
    "| 2 | 2022-12-27T12:00:04+09:00 | 20.04 | 4 |"
   ]
  },
  {
   "cell_type": "code",
   "execution_count": null,
   "metadata": {},
   "outputs": [],
   "source": []
  }
 ],
 "metadata": {
  "kernelspec": {
   "display_name": ".venv",
   "language": "python",
   "name": "python3"
  },
  "language_info": {
   "codemirror_mode": {
    "name": "ipython",
    "version": 3
   },
   "file_extension": ".py",
   "mimetype": "text/x-python",
   "name": "python",
   "nbconvert_exporter": "python",
   "pygments_lexer": "ipython3",
   "version": "3.8.15 (default, Oct 11 2022, 21:52:37) \n[Clang 14.0.0 (clang-1400.0.29.102)]"
  },
  "orig_nbformat": 4,
  "vscode": {
   "interpreter": {
    "hash": "8d394a8163d3ed125da117acd371b62fd90038de8fcd0b655e66cd6675432fdb"
   }
  }
 },
 "nbformat": 4,
 "nbformat_minor": 2
}
