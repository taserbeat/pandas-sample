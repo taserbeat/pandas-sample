{
 "cells": [
  {
   "cell_type": "markdown",
   "id": "e7e8e65c-7862-44c5-8986-e4a814a0777c",
   "metadata": {},
   "source": [
    "# 動作確認用のノートブック\n",
    "\n",
    "このノートブックは動作確認の目的で使用するサンプルのノートブックです。"
   ]
  },
  {
   "attachments": {},
   "cell_type": "markdown",
   "id": "b5d693e3-4d76-41ed-9a7d-bbb5f94c7b49",
   "metadata": {},
   "source": [
    "## 1. ライブラリのimport&バージョン確認\n",
    "\n",
    "外部ライブラリのimportする。  \n",
    "また、バージョン番号等の出力も行ってライブラリが正しくインストールできていることを確認する。"
   ]
  },
  {
   "cell_type": "code",
   "execution_count": 1,
   "id": "31f13c0c-b26a-4c22-8637-b1cb02e051e9",
   "metadata": {},
   "outputs": [
    {
     "name": "stdout",
     "output_type": "stream",
     "text": [
      "numpy: 1.24.1\n",
      "pandas: 1.5.2\n"
     ]
    }
   ],
   "source": [
    "import numpy as np\n",
    "import pandas as pd\n",
    "\n",
    "print(f\"numpy: {np.__version__}\")\n",
    "print(f\"pandas: {pd.__version__}\")"
   ]
  },
  {
   "cell_type": "code",
   "execution_count": null,
   "id": "1dbb2061",
   "metadata": {},
   "outputs": [],
   "source": []
  }
 ],
 "metadata": {
  "kernelspec": {
   "display_name": ".venv",
   "language": "python",
   "name": "python3"
  },
  "language_info": {
   "codemirror_mode": {
    "name": "ipython",
    "version": 3
   },
   "file_extension": ".py",
   "mimetype": "text/x-python",
   "name": "python",
   "nbconvert_exporter": "python",
   "pygments_lexer": "ipython3",
   "version": "3.8.15"
  },
  "vscode": {
   "interpreter": {
    "hash": "8d394a8163d3ed125da117acd371b62fd90038de8fcd0b655e66cd6675432fdb"
   }
  }
 },
 "nbformat": 4,
 "nbformat_minor": 5
}
